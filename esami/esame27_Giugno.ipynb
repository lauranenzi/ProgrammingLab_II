{
 "cells": [
  {
   "cell_type": "markdown",
   "id": "49546b3d",
   "metadata": {},
   "source": [
    "# Esame Laboratorio di Programmazione II - 27/06/2025\n"
   ]
  },
  {
   "cell_type": "code",
   "execution_count": null,
   "id": "b381b396",
   "metadata": {},
   "outputs": [],
   "source": [
    "import numpy as np"
   ]
  },
  {
   "cell_type": "markdown",
   "id": "0944d24f",
   "metadata": {},
   "source": [
    "## Esercizio 1\n",
    "\n",
    "Crea un array NumPy con i prezzi (in euro) di 5 libri: **14.99, 22.50, 9.75, 18.00, 31.20, 12.80, 24.90, 8.40, 19.99, 27.30**\n",
    "\n",
    "1. Calcola il prezzo medio dei libri\n",
    "2. Seleziona i libri con un prezzo maggiore della media.\n",
    "3. Crea un nuovo array che applica uno sconto del 10% solo ai libri che costano più della media."
   ]
  },
  {
   "cell_type": "code",
   "execution_count": null,
   "id": "c6a8125c",
   "metadata": {},
   "outputs": [],
   "source": [
    "prezzi = np.array([14.99, 22.50, 9.75, 18.00, 31.20, 12.80, 24.90, 8.40, 19.99, 27.30])\n",
    "\n",
    "media = prezzi.mean()\n",
    "print(\"Prezzo medio:\", media)\n",
    "\n",
    "sopra_media = prezzi[prezzi > media]\n",
    "print(\"Libri con prezzo > media:\", sopra_media)\n",
    "\n",
    "sconto = prezzi.copy()\n",
    "sconto[prezzi > media] *= 0.9\n",
    "print(\"Prezzi scontati:\", sconto)"
   ]
  },
  {
   "cell_type": "markdown",
   "id": "d521ad3c",
   "metadata": {},
   "source": [
    "## Esercizio 2\n",
    "\n",
    "Simula 1000 lanci di una moneta che ad ogni lancio ha il doppio di probabilità di risultare croce invece che testa. Ogni lancio è rappresentato da 1 (testa) o 0 (croce).\n",
    "\n",
    "1. Crea un array NumPy contenente i risultati.\n",
    "2. Calcola la proporzione di teste dopo ogni 50 lanci cumulativi.\n",
    "3. Crea un grafico della proporzione cumulativa nel tempo (dopo 50 lanci, dopo 100, dopo 150,...)."
   ]
  },
  {
   "cell_type": "code",
   "execution_count": null,
   "id": "e5a571d8",
   "metadata": {},
   "outputs": [],
   "source": []
  },
  {
   "cell_type": "markdown",
   "id": "a50284e4",
   "metadata": {},
   "source": [
    "## Esercizio 3\n",
    "\n",
    "Crea una funzione di nome **mat_normalizzata** che prende come input una matrice e ritorna la matrice normalizzata.\n",
    "\n",
    "La funzione deve quindi:\n",
    "1. Calcolare la media e la deviazione standard della matrice.\n",
    "2. Normalizzare la matrice sottraendo la media e dividendo per la deviazione standard.\n",
    "\n",
    "Testa La funzione con un array NumPy 6x10 con numeri campionati da una distribuzione normale (media=5, std=2)."
   ]
  },
  {
   "cell_type": "code",
   "execution_count": null,
   "id": "96855315",
   "metadata": {},
   "outputs": [],
   "source": []
  },
  {
   "cell_type": "markdown",
   "id": "df5794d6",
   "metadata": {},
   "source": [
    "## Esercizio 4\n",
    "\n",
    "Utilizza il dataset `books.csv`.\n",
    "\n",
    "1. **Crea una nuova colonna** chiamata `engagement_score`, definita come:\n",
    "\n",
    "   $$\n",
    "   \\texttt{engagement\\_score} = \\texttt{average\\_rating} \\times \\log_{10}(1 + \\texttt{ratings\\_count})\n",
    "   $$\n",
    "\n",
    "   *(Un indicatore che tiene conto sia della qualità (valutazione media), sia della quantità di voti. Il logaritmo serve ad attenuare l'effetto dei libri estremamente popolari.)*\n",
    "\n",
    "2. Trova il **libro con il valore massimo** di `engagement_score`.\n",
    "\n",
    "3. **Filtra i libri** con una valutazione media (`average_rating`) **maggiore di 4.5**.\n",
    "\n",
    "4. **Crea un grafico a barre** con i 10 libri con il valore più alto di `engagement_score`.\n",
    "\n",
    "5. **Crea un grafico a linee** della `average_rating`, ordinando i libri per `ratings_count` crescente.\n"
   ]
  },
  {
   "cell_type": "code",
   "execution_count": null,
   "id": "ea21d2dd",
   "metadata": {},
   "outputs": [],
   "source": [
    "\n"
   ]
  },
  {
   "cell_type": "markdown",
   "id": "0c0ed94d",
   "metadata": {},
   "source": [
    "## Esercizio 5\n",
    "Utilizza il dataset `adult.csv`.\n",
    "Contiene informazioni demografiche su adulti negli Stati Uniti. Le colonne rilevanti sono:\n",
    "- `age`: età (integer)\n",
    "- `workclass`, `education`, `marital-status`, `occupation`, `race`, `sex`\n",
    "- `hours-per-week`: ore lavorate a settimana\n",
    "- `income`: `>50K` o `<=50K` (target)\n",
    "\n",
    "1. Quante **righe e colonne** ha il dataset?\n",
    "2. Quanti **valori mancanti** ci sono per colonna?\n",
    "3. **Sostituisci i valori mancanti** nelle colonne categoriche (workclass, occupation, native-country) con il valore più frequente (la moda).\n",
    "4. Calcola l’**età media** (`age`) per sesso (`sex`)\n",
    "5. Trova la % di persone che guadagnano **>50K** per sesso.\n",
    "7. Crea una **colonna `age_group`** raggruppando le età in fasce: `'<30'`, `'30-50'`, `'>50'`.\n",
    "8. **Crea**:\n",
    "   - un grafico **a barre** con % di reddito `>50K` per fascia di età.\n",
    "   - un **boxplot** delle ore lavorate (`hours-per-week`) per gruppo reddito (<=50, >50).\n"
   ]
  },
  {
   "cell_type": "code",
   "execution_count": null,
   "id": "64f0db9b",
   "metadata": {},
   "outputs": [],
   "source": []
  },
  {
   "cell_type": "markdown",
   "id": "957705ce",
   "metadata": {},
   "source": [
    "## Esercizio 6\n",
    "\n",
    "Genera due array:\n",
    "\n",
    "`x = np.linspace(0, 5, 80)`  \n",
    "`y = 2.5 * x + 1.2 + np.random.normal(0, 0.5, 80)`\n",
    "\n",
    "1. Usa `scipy.optimize.curve_fit` per stimare i parametri della retta.\n",
    "2. Plotta i punti originali e la retta ottenuta.\n",
    "3. Calcola MAE e RMSE tra i valori reali e quelli stimati."
   ]
  },
  {
   "cell_type": "code",
   "execution_count": null,
   "id": "cc867196",
   "metadata": {},
   "outputs": [],
   "source": [
    "\n"
   ]
  }
 ],
 "metadata": {
  "kernelspec": {
   "display_name": "Python 3",
   "language": "python",
   "name": "python3"
  },
  "language_info": {
   "codemirror_mode": {
    "name": "ipython",
    "version": 3
   },
   "file_extension": ".py",
   "mimetype": "text/x-python",
   "name": "python",
   "nbconvert_exporter": "python",
   "pygments_lexer": "ipython3",
   "version": "3.12.2"
  }
 },
 "nbformat": 4,
 "nbformat_minor": 5
}
