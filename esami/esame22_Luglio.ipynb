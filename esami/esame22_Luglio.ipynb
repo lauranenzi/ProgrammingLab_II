{
 "cells": [
  {
   "cell_type": "markdown",
   "id": "49546b3d",
   "metadata": {},
   "source": [
    "# Esame Laboratorio di Programmazione II - 22/07/2025\n"
   ]
  },
  {
   "cell_type": "markdown",
   "id": "d80cf9b8",
   "metadata": {},
   "source": [
    "Scrivete chiaramente sul notebook il vostro nome e matricola e rinominate il file che consegnate come `matricola.ipynb` (la matricola è SMnumeri o ECnumeri).\n",
    "\n",
    "Per ogni funzione e metodo che richiede un campionamento rispetto ad una distribuzione settate il seed a 0: ``np.random.seed(0)``.\n",
    "\n",
    "Stampate il risultato delle domande e consegnate il compito eseguito, quindi per cui ogni cella ha il corrispondente output.\n",
    "Quindi ad esempio\n",
    "\n",
    "e.g., \n",
    "NON scrivete: \n",
    "```python \n",
    "    lista=np.array([1,2,3])\n",
    "```\n",
    "ma \n",
    "```python\n",
    "    lista=np.array([1,2,3]) \n",
    "    print('lista =', lista)   \n",
    "```\n",
    "Attenzione!Se scrivete:\n",
    "```python\n",
    "    lista=np.array([1,2,3])\n",
    "    lista\n",
    "```\n",
    "``lista`` sarà l'unico ouput che si vede di quella cella\n",
    "\n",
    "NB: Potete usare anche più di una cella python per domanda e se l'output è una matrice molto grande non dovete stamparla.\n",
    "\n",
    "Sarà valutata anche la presentazione, ad esempio un plot senza etichette sugli assi o illeggibili sarà valutato meno bene di uno con etichette chiare.\n",
    "\n",
    "Cercate di commmentare il compito di modo che si capisca cosa avete fatto.\n",
    "\n",
    "Controllate attentamente di avere consegnato il file giusto."
   ]
  },
  {
   "cell_type": "code",
   "execution_count": null,
   "id": "b381b396",
   "metadata": {},
   "outputs": [],
   "source": []
  },
  {
   "cell_type": "markdown",
   "id": "0944d24f",
   "metadata": {},
   "source": [
    "## Esercizio 1\n",
    "\n",
    "Crea un vettore NumPy con le seguenti spese annuali per l’auto (in euro) sostenute da 7 persone:\n",
    "3200, 2750, 4100, 3600, 2950, 5100, 4400\n",
    "\n",
    "1. Calcola la spesa totale complessiva sostenuta dal gruppo.\n",
    "\n",
    "2. Le persone con spese minori di 3000 € ottengono una detrazione fiscale del 15%. Applica la modifica al vettore.\n",
    "\n",
    "3. Quanto ha risparmiato il gruppo dopo la detrazione fiscale?\n"
   ]
  },
  {
   "cell_type": "code",
   "execution_count": null,
   "id": "7c2e63b1",
   "metadata": {},
   "outputs": [],
   "source": []
  },
  {
   "cell_type": "markdown",
   "id": "d521ad3c",
   "metadata": {},
   "source": [
    "## Esercizio 2\n",
    "1. Scrivi una funzione che simula il lancio di un dado per N volte e restituisce un array con il numero di volte che è uscita ciascuna faccia (da 1 a 6).\n",
    "2. Calcolare la frequenza % con la dimensione del campione (numero di lanci) 100 volte da 10 a 5000.  Ottieni così 100 array di frequenze.\n",
    "3. Fai il plot dell’andamento della frequenza media delle facce 1, 3 e 6 in funzione della dimensione del campione.\n",
    "\n"
   ]
  },
  {
   "cell_type": "code",
   "execution_count": null,
   "id": "e5a571d8",
   "metadata": {},
   "outputs": [],
   "source": []
  },
  {
   "cell_type": "markdown",
   "id": "a50284e4",
   "metadata": {},
   "source": [
    "## Esercizio 3\n",
    "\n",
    "1. Genera una matrice NumPy di dimensioni 7 x 7, con valori estratti da una distribuzione normale con media = 0, ed std = 5.\n",
    "\n",
    "2. Per ogni riga, identifica il valore più lontano da zero (cioè con valore assoluto massimo). Crea un array con questi 7 valori (uno per riga).\n",
    "\n",
    "3. Calcola quante di queste righe hanno il valore più lontano da zero positivo?"
   ]
  },
  {
   "cell_type": "code",
   "execution_count": null,
   "id": "96855315",
   "metadata": {},
   "outputs": [],
   "source": []
  },
  {
   "cell_type": "markdown",
   "id": "df5794d6",
   "metadata": {},
   "source": [
    "## Esercizio 4 \n",
    "\n",
    "Utilizza il dataset cereal.csv.\n",
    "\n",
    "Contiene dati nutrizionali (proteine, fibre, calorie, zuccheri, ecc.) per circa 70 cereali.\n",
    "\n",
    "\n",
    "1.  Aggiungi una colonna chiamata `nutri_score`, definita come:\n",
    "$$\n",
    "\\texttt{nutri\\_score} = \\frac{\\texttt{protein} + \\texttt{fiber}}{\\texttt{calories}}\n",
    "$$\n",
    "\n",
    "Indica quanti nutrienti positivi ci sono per ogni caloria: più è alto, più il cereale è \"nutriente a parità di energia.\n",
    "\n",
    "2. Trova i **5 cereali con il `nutri_score` più alto** e stampali con `name` e `nutri_score`.\n",
    "\n",
    "3. Filtra i cereali che soddisfano entrambi i criteri:\n",
    "\n",
    "   - meno di 120 calorie  \n",
    "   - più di 2 grammi di fibra \n",
    "\n",
    "\n",
    "4. **Crea un grafico a barre** dei **10 cereali con il `nutri_score` più alto**, usando `name` sull’asse x.\n",
    "\n",
    "5. Crea uno **scatter plot** (grafico a punti) che visualizzi:\n",
    "\n",
    "   - `calories` sull’asse x  \n",
    "   - `nutri_score` sull’asse y\n",
    "   - `protein` nel colore dei punti\n"
   ]
  },
  {
   "cell_type": "code",
   "execution_count": null,
   "id": "ea21d2dd",
   "metadata": {},
   "outputs": [],
   "source": []
  },
  {
   "cell_type": "markdown",
   "id": "9a478a52",
   "metadata": {},
   "source": [
    "## Esercizio 5 \n",
    "\n",
    "Utilizza il dataset `imdb_top_1000.csv`, che contiene informazioni su 1000 film recensiti su IMDB.\n",
    "\n",
    "1. Quanti **valori mancanti** ci sono per colonna? Elimina le righe con i valori mancanti.\n",
    "\n",
    "2. Elimina la colonna `Overview`. Aggiungi una colonna (`main_genre`) con solo il primo genere della colonna `genre`. Quali sono i 5 generi più frequenti?\n",
    "\n",
    "3. Che attore/attrice è stato/a più volte la `Star1` e quello/a che ha fatto più film.\n",
    "\n",
    "4. Calcola l'IMDB_rating medio e il Gross medio di ogni genere. Fai uno scatter plot dell'IMDB_rating medio e il Gross medio di ogni genere. Riesci a mettere anche l'ettichetta del genere?\n",
    "\n",
    "5. Visualizza la distribuzione del IMDB_rating  e la distribuzione del `Gross` dei primi 5 main_genre. (Hint fai due violin plot).\n",
    "\n",
    "\n"
   ]
  },
  {
   "cell_type": "code",
   "execution_count": null,
   "id": "18987a94",
   "metadata": {},
   "outputs": [],
   "source": []
  },
  {
   "cell_type": "markdown",
   "id": "957705ce",
   "metadata": {},
   "source": [
    "## Esercizio 6\n",
    "\n",
    "Considera i seguenti dati, che :\n",
    "\n",
    "`x = np.linspace(0, 10, 100)`  \n",
    "`y = -3.5 * x + 2 + np.random.normal(0, 10, 100)`\n",
    "\n",
    "Cerca di riprodurre la retta fittando i parametri della funzione y = ax + b.\n",
    "\n",
    "1. Stima i parametri della retta.\n",
    "2. Calcola l’intervallo di confidenza al 95% dei parametri a e b.\n",
    "N.B il secondo output del metodo curve_fit è proprio la matrice di covarianza: `params, cov = curve_fit(retta, x, y)`. \n",
    "L'**errore standard** di ciascun parametro si calcola come:\n",
    "\n",
    "$$\n",
    "\\text{errore\\_standard}_i = \\sqrt{\\text{cov}(i, i)}\n",
    "$$\n",
    "\n",
    "dove $\\text{cov}(i, i)$ è l'elemento diagonale $i$-esimo della **matrice di covarianza**.\n",
    "\n",
    "L’**intervallo di confidenza al 95%** si approssima con:\n",
    "\n",
    "$$\n",
    "\\text{parametro}_i \\pm 1.96 \\times \\text{errore\\_standard}_i\n",
    "$$\n",
    "3. Plotta i punti originali e la retta ottenuta con anche l'intervallo di confidenza"
   ]
  },
  {
   "cell_type": "code",
   "execution_count": null,
   "id": "24c7bffa",
   "metadata": {},
   "outputs": [],
   "source": []
  }
 ],
 "metadata": {
  "kernelspec": {
   "display_name": "mio_ambiente",
   "language": "python",
   "name": "python3"
  },
  "language_info": {
   "codemirror_mode": {
    "name": "ipython",
    "version": 3
   },
   "file_extension": ".py",
   "mimetype": "text/x-python",
   "name": "python",
   "nbconvert_exporter": "python",
   "pygments_lexer": "ipython3",
   "version": "3.11.10"
  }
 },
 "nbformat": 4,
 "nbformat_minor": 5
}
