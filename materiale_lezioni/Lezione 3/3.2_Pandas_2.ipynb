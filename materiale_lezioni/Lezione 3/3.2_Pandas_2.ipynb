{
 "cells": [
  {
   "cell_type": "markdown",
   "metadata": {},
   "source": [
    "# Pulizia dei dati in Pandas"
   ]
  },
  {
   "cell_type": "code",
   "execution_count": null,
   "metadata": {},
   "outputs": [],
   "source": [
    "# Importing Libraries\n",
    "import pandas as pd\n",
    "from datasets import load_dataset\n",
    "\n",
    "# Carica il dataset\n",
    "dataset = load_dataset(\"yiqing111/Engineering_Jobs_Insight_Dataset\")\n",
    "\n",
    "# Converte in DataFrame Pandas\n",
    "df = dataset['train'].to_pandas()\n",
    "# Rimpiazza gli spazi con l'underscore\n",
    "df.columns = df.columns.str.replace(' ', '_')"
   ]
  },
  {
   "cell_type": "code",
   "execution_count": null,
   "metadata": {},
   "outputs": [],
   "source": [
    "df.info()"
   ]
  },
  {
   "cell_type": "markdown",
   "metadata": {},
   "source": [
    "## Date and Time"
   ]
  },
  {
   "cell_type": "markdown",
   "metadata": {},
   "source": [
    "### Datetime\n",
    "\n",
    "* `pd.to_datetime()`: converte gli argomenti in formato data-pora\n",
    "\n",
    "Possiamo anche usare `info()` che il tipo di dato è passato da oggetto o stringa a formato `datetime` \n",
    "\n",
    "#### Esempio"
   ]
  },
  {
   "cell_type": "code",
   "execution_count": null,
   "metadata": {},
   "outputs": [],
   "source": [
    "# Convertire 'Date_Posted' in datetime senza specificare il formato esatto\n",
    "df['Date_Posted'] = pd.to_datetime(df['Date_Posted'], errors='coerce')\n",
    "# errors='coerce' trasforma quelli non validi in NaT (Not a Time, l'equivalente datetime di NaN)\n",
    "\n",
    "df.info()"
   ]
  },
  {
   "cell_type": "code",
   "execution_count": null,
   "metadata": {},
   "outputs": [],
   "source": [
    "df.head()"
   ]
  },
  {
   "cell_type": "markdown",
   "metadata": {},
   "source": [
    "### Date\n",
    "\n",
    "* `dt`: è un accessor che ci permette di accedere a metodi e proprietà specializzate per lavorare con dati datetime all'interno di una series di pandas.\n",
    "* `date`: è una proprietà che estrae la componente **data** da un oggetto datetime nella series.\n",
    "\n",
    "#### Esempio\n",
    "\n",
    "Ora convertiamo un valore da datetime a data utilizzando `dt.date`.\n"
   ]
  },
  {
   "cell_type": "code",
   "execution_count": null,
   "metadata": {},
   "outputs": [],
   "source": [
    "df['Date_Posted'] = df['Date_Posted'].dt.date\n",
    "\n",
    "df.head()"
   ]
  },
  {
   "cell_type": "markdown",
   "metadata": {},
   "source": [
    "## Aggiungere una colonna\n",
    "\n",
    "NOTA BENE: Se vuoi creare una nuova colonna, devi usare la sintassi `df['nome_colonna']`.\n",
    "\n",
    "### Esempio\n",
    "\n",
    "Qui stiamo creando una nuova colonna chiamata **'Is Senior Software Engineer'**.  \n",
    "La colonna conterrà:\n",
    "- **1** se il valore in `Job_Title` è uguale a `'Senior Software Engineer'`\n",
    "- **0** altrimenti\n",
    "\n",
    "Usiamo `astype(int)` per convertire il valore booleano in 1 o 0.\n"
   ]
  },
  {
   "cell_type": "code",
   "execution_count": null,
   "metadata": {},
   "outputs": [],
   "source": [
    "df.is_Senior_SE = (df.Job_Title == 'Senior Software Engineer').astype(int)"
   ]
  },
  {
   "cell_type": "code",
   "execution_count": null,
   "metadata": {},
   "outputs": [],
   "source": [
    "df['is_Senior_SE'] = (df.Job_Title == 'Senior Software Engineer').astype(int)"
   ]
  },
  {
   "cell_type": "code",
   "execution_count": null,
   "metadata": {},
   "outputs": [],
   "source": [
    "df['is_Senior_SE']"
   ]
  },
  {
   "cell_type": "markdown",
   "metadata": {},
   "source": [
    "Vediamo ora i casi in cui questa colonna è **maggiore di 0**,  \n",
    "cioè è uguale a **1** (ovvero è vera).\n",
    "\n",
    "Possiamo usare il **filtro sulle righe** che abbiamo visto nella sezione precedente:"
   ]
  },
  {
   "cell_type": "code",
   "execution_count": null,
   "metadata": {},
   "outputs": [],
   "source": [
    "df[df['is_Senior_SE'] > 0]"
   ]
  },
  {
   "cell_type": "markdown",
   "metadata": {},
   "source": [
    "## Eliminare Dati\n",
    "\n",
    "* Usa `drop()` se vuoi **eliminare** (cancellare) una **colonna** o una **riga** dal tuo DataFrame.\n",
    "* La sintassi è:\n",
    "\n",
    "    * Eliminare una colonna:  \n",
    "      ```python\n",
    "      df.drop('nome_colonna', axis=1)\n",
    "      ```\n",
    "\n",
    "    * Eliminare una riga:  \n",
    "      ```python\n",
    "      df.drop(indice, axis=0)\n",
    "      ```\n",
    "\n",
    "* Se vuoi eliminare più elementi:\n",
    "\n",
    "    * Eliminare più colonne:  \n",
    "      ```python\n",
    "      df.drop(['colonna1', 'colonna2'], axis=1)\n",
    "      ```\n",
    "\n",
    "    * Eliminare più righe:  \n",
    "      ```python\n",
    "      df.drop([indice1, indice2], axis=0)\n",
    "      ```\n",
    "\n",
    "---\n",
    "\n",
    "### Esempio\n",
    "\n",
    "Eliminiamo la colonna `'URL'`.  \n",
    "Poiché stiamo eliminando una **colonna**, useremo `axis=1`:\n"
   ]
  },
  {
   "cell_type": "code",
   "execution_count": null,
   "metadata": {},
   "outputs": [],
   "source": [
    "df.info()"
   ]
  },
  {
   "cell_type": "code",
   "execution_count": null,
   "metadata": {},
   "outputs": [],
   "source": [
    "df.drop('URL', axis = 1, inplace=True)\n",
    "df.info()"
   ]
  },
  {
   "cell_type": "markdown",
   "metadata": {},
   "source": [
    "## Rimuovere Valori NA\n",
    "\n",
    "* Per rimuovere le righe che contengono celle vuote (NaN), usa `dropna()`.\n",
    "* Per default, `dropna()` restituisce un **nuovo DataFrame** e **non modifica** quello originale.\n",
    "* Se vuoi che dropna() modifichi direttamente il DataFrame originale, devi usare il parametro `inplace=True`\n",
    "\n",
    "### Esempio\n",
    "\n",
    "Ripuliamo la colonna `Salary_Max` rimuovendo le righe che hanno valori `NaN` in questa colonna:"
   ]
  },
  {
   "cell_type": "code",
   "execution_count": null,
   "metadata": {},
   "outputs": [],
   "source": [
    "df.dropna(subset=['Salary_Max'], inplace=True)"
   ]
  },
  {
   "cell_type": "markdown",
   "metadata": {},
   "source": [
    "## Ordinamento dei Valori\n",
    "\n",
    "* `sort_values()` ordina un DataFrame o una specifica colonna in ordine crescente o decrescente, basandosi su una o più colonne.\n",
    "* Di solito si usa per ordinare secondo una colonna specifica.\n",
    "\n",
    "### Parametri:\n",
    "* `by` - nome della colonna (o lista di colonne) su cui basare l’ordinamento.\n",
    "* `ascending` - booleano o lista di booleani. Di default è `True` (ordine crescente). Per ordinare in modo decrescente, si usa `False`.\n",
    "* `inplace` - se `True`, modifica il DataFrame originale; altrimenti restituisce uno nuovo.\n",
    "\n",
    "### Esempio\n",
    "\n",
    "Ordiniamo il nostro DataFrame secondo la colonna `Date_Posted` in ordine decrescente (dalla data più recente alla meno recente).\n"
   ]
  },
  {
   "cell_type": "code",
   "execution_count": null,
   "metadata": {},
   "outputs": [],
   "source": [
    "df.sort_values(by='Date_Posted', ascending=False, inplace=True)\n",
    "df"
   ]
  },
  {
   "cell_type": "markdown",
   "metadata": {},
   "source": [
    "# Data Analysis con Pandas "
   ]
  },
  {
   "cell_type": "markdown",
   "metadata": {},
   "source": [
    "## Statistica Descrittiva"
   ]
  },
  {
   "cell_type": "markdown",
   "metadata": {},
   "source": [
    "### Describe()\n",
    "\n",
    "Per ottenere una panoramica di base utilizziamo dinuovo `describe()`.\n",
    "\n",
    "* Restituisce le seguenti statistiche (per le colonne con dati numerici):\n",
    "  * count (numero di valori non nulli)\n",
    "  * mean (media)\n",
    "  * std (deviazione standard)\n",
    "  * min (valore minimo)\n",
    "  * max (valore massimo)\n",
    "* Ottimo per avere una **visione rapida** delle statistiche fondamentali della tabella.\n",
    "* Ignora automaticamente i valori `NaN`.\n",
    "\n",
    "#### Esempio\n",
    "\n",
    "Utilizziamo `describe()` sul nostro DataFrame:\n",
    "\n",
    "```python\n",
    "df.describe()\n"
   ]
  },
  {
   "cell_type": "code",
   "execution_count": null,
   "metadata": {},
   "outputs": [],
   "source": [
    "df.describe()"
   ]
  },
  {
   "cell_type": "markdown",
   "metadata": {},
   "source": [
    "Puoi anche usare `describe()` su singole colonne.  \n",
    "Se ad esempio volessimo analizzare solo la colonna `salary_year_avg`, useremmo:"
   ]
  },
  {
   "cell_type": "code",
   "execution_count": null,
   "metadata": {},
   "outputs": [],
   "source": [
    "df['Salary_Min'].describe()"
   ]
  },
  {
   "cell_type": "markdown",
   "metadata": {},
   "source": [
    "### Metodi Comuni di Analisi dei Dati\n",
    "\n",
    "Esistono anche altri metodi molto utili, come:\n",
    "\n",
    "* `df.sum()` – Somma dei valori\n",
    "* `df.cumsum()` – Somma cumulativa dei valori\n",
    "* `df.min()` / `df.max()` – Valori minimi / massimi\n",
    "* `df.idxmin()` / `df.idxmax()` – Indici dei valori minimo / massimo\n",
    "* `df.mean()` – Media dei valori\n",
    "* `df.median()` – Mediana dei valori\n",
    "* `df.mode()` – Moda dei valori\n",
    "* `series.value_counts()` – Conteggio dei valori unici all'interno di una **Series** (cioè una colonna)\n",
    "    * Tipicamente usato per contare le **occorrenze uniche** in una singola colonna.\n",
    "    * Non si applica direttamente a un intero DataFrame senza specificare la colonna.\n",
    "\n",
    "* A seconda del metodo, può essere applicato **direttamente al DataFrame o a una Series**.\n",
    "\n",
    "---\n",
    "\n",
    "#### Esempio\n",
    "\n",
    "Vediamo il conteggio dei valori in ogni colonna del DataFrame:\n"
   ]
  },
  {
   "cell_type": "code",
   "execution_count": null,
   "metadata": {},
   "outputs": [],
   "source": [
    "df.count()"
   ]
  },
  {
   "cell_type": "markdown",
   "metadata": {},
   "source": [
    "Questo è utile per ottenere una panoramica generale del DataFrame,  \n",
    "ma al momento **non ci serve molto**.\n",
    "\n",
    "Procediamo invece con alcuni **conteggi su colonne specifiche**:\n"
   ]
  },
  {
   "cell_type": "code",
   "execution_count": null,
   "metadata": {},
   "outputs": [],
   "source": [
    "df['Salary_Min'].min()"
   ]
  },
  {
   "cell_type": "markdown",
   "metadata": {},
   "source": [
    "Ora andiamo a ottenere **l'indice del valore minimo** nella colonna `Salary_Min`."
   ]
  },
  {
   "cell_type": "code",
   "execution_count": null,
   "metadata": {},
   "outputs": [],
   "source": [
    "df['Salary_Min'].idxmin()"
   ]
  },
  {
   "cell_type": "code",
   "execution_count": null,
   "metadata": {},
   "outputs": [],
   "source": [
    "df.loc[10982]"
   ]
  },
  {
   "cell_type": "code",
   "execution_count": null,
   "metadata": {},
   "outputs": [],
   "source": [
    "df['Salary_Min'].mode()"
   ]
  },
  {
   "cell_type": "markdown",
   "metadata": {},
   "source": [
    "E per sapere i titoli di lavoro unici e quante volte ciascuno appare?"
   ]
  },
  {
   "cell_type": "code",
   "execution_count": null,
   "metadata": {},
   "outputs": [],
   "source": [
    "df['Job_Title'].value_counts()"
   ]
  },
  {
   "cell_type": "markdown",
   "metadata": {},
   "source": [
    "Restituisce una Series ordinata con:\n",
    "\n",
    "* i valori unici della colonna Job_Title\n",
    "\n",
    "* e il numero di occorrenze per ciascun valore\n",
    "\n"
   ]
  },
  {
   "cell_type": "markdown",
   "metadata": {},
   "source": [
    "## Aggregazione"
   ]
  },
  {
   "cell_type": "markdown",
   "metadata": {},
   "source": [
    "### Groupby()\n",
    "\n",
    "* Usa `groupby` per **raggruppare il DataFrame** in base ai valori unici di una colonna specifica.\n",
    "* Permette di eseguire **aggregazioni** (es. media, somma) sui dati raggruppati.\n",
    "\n",
    "La sintassi è:\n",
    "  `df.groupby(\"colonne da raggruppare\")[\"colonne da aggregare\"].metodo_che_aggrega()`\n",
    "\n",
    "#### Esempi di aggregazioni che puoi eseguire:\n",
    "\n",
    "- `mean()` – Calcola la media dei gruppi  \n",
    "- `sum()` – Somma i valori di ciascun gruppo  \n",
    "- `median()` – Trova la mediana per ogni gruppo  \n",
    "- `min()` / `max()` – Valore minimo / massimo per gruppo  \n",
    "- Conteggi:\n",
    "  * `count()` – Conta i valori **non nulli (non-NA)** per ogni gruppo  \n",
    "  * `size()` – Restituisce la **dimensione totale** del gruppo (inclusi i NaN)  \n",
    "- `std()` / `var()` – Deviazione standard e varianza  \n",
    "- `first()` / `last()` – Prima e ultima riga di ciascun gruppo  \n",
    "- `unique()` – Valori unici non-NaN per ciascun gruppo\n",
    "\n",
    "\n",
    "---\n",
    "\n",
    "#### Esempio\n",
    "\n",
    "Se vogliamo calcolare lo **stipendio minimo medio** per ogni `Job_Title`:"
   ]
  },
  {
   "cell_type": "code",
   "execution_count": null,
   "metadata": {},
   "outputs": [],
   "source": [
    "df.groupby('Job_Title')['Salary_Min'].mean()"
   ]
  },
  {
   "cell_type": "code",
   "execution_count": null,
   "metadata": {},
   "outputs": [],
   "source": [
    "df.groupby('Job_Title')['Salary_Min'].median()"
   ]
  },
  {
   "cell_type": "markdown",
   "metadata": {},
   "source": [
    "### Agg()\n",
    "\n",
    "* `agg()` ti permette di applicare **più funzioni di aggregazione contemporaneamente**.\n",
    "* Puoi passare:\n",
    "  - una **lista di funzioni** → per applicarle tutte a una colonna\n",
    "  - un **dizionario** → per applicare funzioni diverse a colonne diverse\n",
    "\n",
    "---\n",
    "\n",
    "#### Esempio\n",
    "\n",
    "Per ogni titolo di lavoro (`Job_Title`), otteniamo i **valori minimo, massimo e mediano** dello stipendio minimo:"
   ]
  },
  {
   "cell_type": "code",
   "execution_count": null,
   "metadata": {},
   "outputs": [],
   "source": [
    "df.groupby('Job_Title')['Salary_Min'].agg(['min', 'max', 'median'])"
   ]
  }
 ],
 "metadata": {
  "colab": {
   "authorship_tag": "ABX9TyOesntGgbKf0j5kTUlASbMV",
   "provenance": [],
   "toc_visible": true
  },
  "kernelspec": {
   "display_name": "labPython",
   "language": "python",
   "name": "python3"
  },
  "language_info": {
   "codemirror_mode": {
    "name": "ipython",
    "version": 3
   },
   "file_extension": ".py",
   "mimetype": "text/x-python",
   "name": "python",
   "nbconvert_exporter": "python",
   "pygments_lexer": "ipython3",
   "version": "3.12.7"
  }
 },
 "nbformat": 4,
 "nbformat_minor": 0
}
